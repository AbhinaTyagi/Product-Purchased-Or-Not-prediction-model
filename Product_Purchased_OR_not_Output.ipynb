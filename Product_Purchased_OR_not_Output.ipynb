{
 "cells": [
  {
   "cell_type": "code",
   "execution_count": 7,
   "id": "9730e829-b003-439f-a5b1-ff309c478cb0",
   "metadata": {},
   "outputs": [],
   "source": [
    "import pickle \n",
    "import numpy as np"
   ]
  },
  {
   "cell_type": "code",
   "execution_count": 10,
   "id": "a699a990-60f2-4cb6-8fc9-181203bab1dc",
   "metadata": {},
   "outputs": [],
   "source": [
    "Product=pickle.load(open('Product_Purchased_OR_not.pkl','rb'))"
   ]
  },
  {
   "cell_type": "code",
   "execution_count": 11,
   "id": "6fefb3a5-5743-4e84-abb0-e458816aa598",
   "metadata": {},
   "outputs": [],
   "source": [
    "value=np.array(['Female',42,20000],dtype=object).reshape(1,3)"
   ]
  },
  {
   "cell_type": "code",
   "execution_count": 12,
   "id": "347731d2-7c62-422e-aabb-49bc26da5af2",
   "metadata": {},
   "outputs": [
    {
     "name": "stderr",
     "output_type": "stream",
     "text": [
      "C:\\Users\\Gungun Tyagi\\anaconda3\\Lib\\site-packages\\sklearn\\base.py:439: UserWarning: X does not have valid feature names, but OneHotEncoder was fitted with feature names\n",
      "  warnings.warn(\n",
      "C:\\Users\\Gungun Tyagi\\anaconda3\\Lib\\site-packages\\sklearn\\base.py:439: UserWarning: X does not have valid feature names, but StandardScaler was fitted with feature names\n",
      "  warnings.warn(\n"
     ]
    },
    {
     "data": {
      "text/plain": [
       "array([0], dtype=int64)"
      ]
     },
     "execution_count": 12,
     "metadata": {},
     "output_type": "execute_result"
    }
   ],
   "source": [
    "Product.predict(value)"
   ]
  },
  {
   "cell_type": "code",
   "execution_count": null,
   "id": "c71f12f8-b649-4337-ab60-825dcff5d265",
   "metadata": {},
   "outputs": [],
   "source": []
  }
 ],
 "metadata": {
  "kernelspec": {
   "display_name": "Python 3 (ipykernel)",
   "language": "python",
   "name": "python3"
  },
  "language_info": {
   "codemirror_mode": {
    "name": "ipython",
    "version": 3
   },
   "file_extension": ".py",
   "mimetype": "text/x-python",
   "name": "python",
   "nbconvert_exporter": "python",
   "pygments_lexer": "ipython3",
   "version": "3.11.7"
  }
 },
 "nbformat": 4,
 "nbformat_minor": 5
}
